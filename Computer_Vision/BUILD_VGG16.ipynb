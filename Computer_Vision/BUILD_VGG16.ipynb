{
  "nbformat": 4,
  "nbformat_minor": 0,
  "metadata": {
    "colab": {
      "provenance": [],
      "collapsed_sections": []
    },
    "kernelspec": {
      "name": "python3",
      "display_name": "Python 3"
    },
    "language_info": {
      "name": "python"
    },
    "accelerator": "GPU"
  },
  "cells": [
    {
      "cell_type": "markdown",
      "source": [
        "# Khai báo thư viện và lấy data từ MNIST"
      ],
      "metadata": {
        "id": "k3ILgvDecchy"
      }
    },
    {
      "cell_type": "code",
      "execution_count": null,
      "metadata": {
        "id": "XBO5XnnSrfab"
      },
      "outputs": [],
      "source": [
        "import numpy as np\n",
        "import cv2\n",
        "import tensorflow as tf\n",
        "from tensorflow import keras\n",
        "from tensorflow.keras import layers\n",
        "from skimage.transform import rescale, resize, downscale_local_mean"
      ]
    },
    {
      "cell_type": "code",
      "source": [
        "# Model / data parameters\n",
        "num_classes = 10\n",
        "input_shape = (48, 48, 1)\n",
        "# Load the data and split it between train and test sets\n",
        "#(x_train, y_train), (x_test, y_test) = keras.datasets.mnist.load_data()\n",
        "(new_x_train, y_train), (new_x_test, y_test) = keras.datasets.mnist.load_data()"
      ],
      "metadata": {
        "id": "SaBBUAJzongp"
      },
      "execution_count": null,
      "outputs": []
    },
    {
      "cell_type": "markdown",
      "source": [
        "# Phần chuyển ảnh từ 28x28 sang 224x224\n"
      ],
      "metadata": {
        "id": "KiSa-ZOycJKD"
      }
    },
    {
      "cell_type": "code",
      "source": [
        "length = 10000\n",
        "def convert(original):\n",
        "  def generator():\n",
        "    for img in range(length):\n",
        "      i = cv2.resize(original[img], (48,48))\n",
        "      yield i\n",
        "  x = np.ndarray(shape=(length,48,48), dtype=np.float16)\n",
        "  cnt = 0\n",
        "  for i in generator():\n",
        "    x[cnt] = i\n",
        "    cnt += 1\n",
        "  return x\n",
        "x_train = convert(new_x_train)\n",
        "y_train = y_train[:length]\n",
        "x_test = convert(new_x_test)\n",
        "y_test = y_test[:length]"
      ],
      "metadata": {
        "id": "jwkJ1sTCbi_b"
      },
      "execution_count": null,
      "outputs": []
    },
    {
      "cell_type": "markdown",
      "source": [
        "# Phần tiền xử lí ảnh"
      ],
      "metadata": {
        "id": "0CNUv3o6cM54"
      }
    },
    {
      "cell_type": "code",
      "source": [
        "'''\n",
        "# Scale images to the [0, 1] range\n",
        "x_train = x_train.astype(\"float16\") / 255\n",
        "x_test = x_test.astype(\"float16\") / 255\n",
        "'''"
      ],
      "metadata": {
        "id": "n5U1Glk35v1p",
        "colab": {
          "base_uri": "https://localhost:8080/",
          "height": 36
        },
        "outputId": "2a48b088-9831-4413-9d55-26c513bd9c16"
      },
      "execution_count": null,
      "outputs": [
        {
          "output_type": "execute_result",
          "data": {
            "text/plain": [
              "'\\n# Scale images to the [0, 1] range\\nx_train = x_train.astype(\"float16\") / 255\\nx_test = x_test.astype(\"float16\") / 255\\n'"
            ],
            "application/vnd.google.colaboratory.intrinsic+json": {
              "type": "string"
            }
          },
          "metadata": {},
          "execution_count": 101
        }
      ]
    },
    {
      "cell_type": "code",
      "source": [
        "# Make sure images have shape (28, 28, 1)\n",
        "\n",
        "x_train = np.expand_dims(x_train, -1)\n",
        "x_test = np.expand_dims(x_test, -1)"
      ],
      "metadata": {
        "id": "ocTCRMxa5ynh"
      },
      "execution_count": null,
      "outputs": []
    },
    {
      "cell_type": "code",
      "source": [
        "print(\"x_train shape:\", x_train.shape)\n",
        "print(x_train.shape[0], \"train samples\")\n",
        "print(x_test.shape[0], \"test samples\")\n",
        "\n",
        "# convert class vectors to binary class matrices\n",
        "y_train = keras.utils.to_categorical(y_train, num_classes)\n",
        "y_test = keras.utils.to_categorical(y_test, num_classes)"
      ],
      "metadata": {
        "colab": {
          "base_uri": "https://localhost:8080/"
        },
        "id": "1r9NLZXNBRB5",
        "outputId": "a59f6b27-541c-4843-f830-c64d0217d919"
      },
      "execution_count": null,
      "outputs": [
        {
          "output_type": "stream",
          "name": "stdout",
          "text": [
            "x_train shape: (10000, 48, 48, 1)\n",
            "10000 train samples\n",
            "10000 test samples\n"
          ]
        }
      ]
    },
    {
      "cell_type": "markdown",
      "source": [
        "# Xây dựng model"
      ],
      "metadata": {
        "id": "-NqTAgIj-yZ2"
      }
    },
    {
      "cell_type": "code",
      "source": [
        "model = keras.Sequential(\n",
        "    [\n",
        "        keras.Input(shape=input_shape),\n",
        "        \n",
        "        layers.Conv2D(64, kernel_size=(3, 3), activation=\"relu\", padding='same'),\n",
        "        layers.Conv2D(64, kernel_size=(3, 3), activation=\"relu\", padding='same'),\n",
        "        layers.MaxPooling2D(pool_size=(2, 2), strides=(2,2)),\n",
        "     \n",
        "        layers.Conv2D(128, kernel_size=(3, 3), activation=\"relu\", padding='same'),\n",
        "        layers.Conv2D(128, kernel_size=(3, 3), activation=\"relu\", padding='same'),\n",
        "        layers.MaxPooling2D(pool_size=(2, 2), strides=(2,2)),\n",
        "     \n",
        "        layers.Conv2D(256, kernel_size=(3, 3), activation=\"relu\", padding='same'),\n",
        "        layers.Conv2D(256, kernel_size=(3, 3), activation=\"relu\", padding='same'),\n",
        "        layers.Conv2D(256, kernel_size=(3, 3), activation=\"relu\", padding='same'),\n",
        "        layers.MaxPooling2D(pool_size=(2, 2), strides=(2,2)),\n",
        "     \n",
        "        layers.Conv2D(512, kernel_size=(3, 3), activation=\"relu\", padding='same'),\n",
        "        layers.Conv2D(512, kernel_size=(3, 3), activation=\"relu\", padding='same'),\n",
        "        layers.Conv2D(512, kernel_size=(3, 3), activation=\"relu\", padding='same'),\n",
        "        layers.MaxPooling2D(pool_size=(2, 2), strides=(2,2)),\n",
        "     \n",
        "        layers.Conv2D(512, kernel_size=(3, 3), activation=\"relu\", padding='same'),\n",
        "        layers.Conv2D(512, kernel_size=(3, 3), activation=\"relu\", padding='same'),\n",
        "        layers.Conv2D(512, kernel_size=(3, 3), activation=\"relu\", padding='same'),\n",
        "        layers.MaxPooling2D(pool_size=(2, 2), strides=(2,2)),\n",
        "\n",
        "        layers.Flatten(),\n",
        "        layers.Dense(256, activation='relu'),\n",
        "        layers.Dense(128, activation='relu'),\n",
        "        layers.Dense(num_classes, activation=\"softmax\"),\n",
        "    ]\n",
        ")\n",
        "\n",
        "model.summary()"
      ],
      "metadata": {
        "colab": {
          "base_uri": "https://localhost:8080/"
        },
        "id": "nxdKOlqRBRpY",
        "outputId": "8f1a03d5-3af0-4e49-a7dc-f4e9a5177f74"
      },
      "execution_count": null,
      "outputs": [
        {
          "output_type": "stream",
          "name": "stdout",
          "text": [
            "Model: \"sequential_11\"\n",
            "_________________________________________________________________\n",
            " Layer (type)                Output Shape              Param #   \n",
            "=================================================================\n",
            " conv2d_143 (Conv2D)         (None, 48, 48, 64)        640       \n",
            "                                                                 \n",
            " conv2d_144 (Conv2D)         (None, 48, 48, 64)        36928     \n",
            "                                                                 \n",
            " max_pooling2d_55 (MaxPoolin  (None, 24, 24, 64)       0         \n",
            " g2D)                                                            \n",
            "                                                                 \n",
            " conv2d_145 (Conv2D)         (None, 24, 24, 128)       73856     \n",
            "                                                                 \n",
            " conv2d_146 (Conv2D)         (None, 24, 24, 128)       147584    \n",
            "                                                                 \n",
            " max_pooling2d_56 (MaxPoolin  (None, 12, 12, 128)      0         \n",
            " g2D)                                                            \n",
            "                                                                 \n",
            " conv2d_147 (Conv2D)         (None, 12, 12, 256)       295168    \n",
            "                                                                 \n",
            " conv2d_148 (Conv2D)         (None, 12, 12, 256)       590080    \n",
            "                                                                 \n",
            " conv2d_149 (Conv2D)         (None, 12, 12, 256)       590080    \n",
            "                                                                 \n",
            " max_pooling2d_57 (MaxPoolin  (None, 6, 6, 256)        0         \n",
            " g2D)                                                            \n",
            "                                                                 \n",
            " conv2d_150 (Conv2D)         (None, 6, 6, 512)         1180160   \n",
            "                                                                 \n",
            " conv2d_151 (Conv2D)         (None, 6, 6, 512)         2359808   \n",
            "                                                                 \n",
            " conv2d_152 (Conv2D)         (None, 6, 6, 512)         2359808   \n",
            "                                                                 \n",
            " max_pooling2d_58 (MaxPoolin  (None, 3, 3, 512)        0         \n",
            " g2D)                                                            \n",
            "                                                                 \n",
            " conv2d_153 (Conv2D)         (None, 3, 3, 512)         2359808   \n",
            "                                                                 \n",
            " conv2d_154 (Conv2D)         (None, 3, 3, 512)         2359808   \n",
            "                                                                 \n",
            " conv2d_155 (Conv2D)         (None, 3, 3, 512)         2359808   \n",
            "                                                                 \n",
            " max_pooling2d_59 (MaxPoolin  (None, 1, 1, 512)        0         \n",
            " g2D)                                                            \n",
            "                                                                 \n",
            " flatten_11 (Flatten)        (None, 512)               0         \n",
            "                                                                 \n",
            " dense_33 (Dense)            (None, 256)               131328    \n",
            "                                                                 \n",
            " dense_34 (Dense)            (None, 128)               32896     \n",
            "                                                                 \n",
            " dense_35 (Dense)            (None, 10)                1290      \n",
            "                                                                 \n",
            "=================================================================\n",
            "Total params: 14,879,050\n",
            "Trainable params: 14,879,050\n",
            "Non-trainable params: 0\n",
            "_________________________________________________________________\n"
          ]
        }
      ]
    },
    {
      "cell_type": "markdown",
      "source": [
        "# Train model"
      ],
      "metadata": {
        "id": "5vISdB2z-4jV"
      }
    },
    {
      "cell_type": "code",
      "source": [
        "batch_size = 128\n",
        "epochs = 10\n",
        "\n",
        "model.compile(loss=\"categorical_crossentropy\", optimizer=\"adam\", metrics=[\"accuracy\"])\n",
        "\n",
        "model.fit(x_train, y_train, batch_size=batch_size, epochs=epochs, validation_split=0.1)"
      ],
      "metadata": {
        "id": "JVnooZ3yBUhe",
        "colab": {
          "base_uri": "https://localhost:8080/"
        },
        "outputId": "00f8df4c-a613-49f3-b3e8-23d2034c200f"
      },
      "execution_count": null,
      "outputs": [
        {
          "output_type": "stream",
          "name": "stdout",
          "text": [
            "Epoch 1/10\n",
            "71/71 [==============================] - 8s 104ms/step - loss: 2.3398 - accuracy: 0.1151 - val_loss: 2.3020 - val_accuracy: 0.1040\n",
            "Epoch 2/10\n",
            "71/71 [==============================] - 7s 100ms/step - loss: 2.1014 - accuracy: 0.2349 - val_loss: 1.4053 - val_accuracy: 0.5530\n",
            "Epoch 3/10\n",
            "71/71 [==============================] - 7s 101ms/step - loss: 0.7551 - accuracy: 0.7618 - val_loss: 0.6027 - val_accuracy: 0.8750\n",
            "Epoch 4/10\n",
            "71/71 [==============================] - 7s 101ms/step - loss: 0.2675 - accuracy: 0.9223 - val_loss: 0.2238 - val_accuracy: 0.9300\n",
            "Epoch 5/10\n",
            "71/71 [==============================] - 7s 101ms/step - loss: 0.1497 - accuracy: 0.9571 - val_loss: 0.1246 - val_accuracy: 0.9620\n",
            "Epoch 6/10\n",
            "71/71 [==============================] - 7s 102ms/step - loss: 0.1213 - accuracy: 0.9656 - val_loss: 0.0929 - val_accuracy: 0.9710\n",
            "Epoch 7/10\n",
            "71/71 [==============================] - 7s 102ms/step - loss: 0.0848 - accuracy: 0.9754 - val_loss: 0.0994 - val_accuracy: 0.9680\n",
            "Epoch 8/10\n",
            "71/71 [==============================] - 7s 102ms/step - loss: 0.0769 - accuracy: 0.9781 - val_loss: 0.1140 - val_accuracy: 0.9680\n",
            "Epoch 9/10\n",
            "71/71 [==============================] - 7s 102ms/step - loss: 0.0510 - accuracy: 0.9858 - val_loss: 0.1223 - val_accuracy: 0.9720\n",
            "Epoch 10/10\n",
            "71/71 [==============================] - 7s 102ms/step - loss: 0.0520 - accuracy: 0.9850 - val_loss: 0.1144 - val_accuracy: 0.9690\n"
          ]
        },
        {
          "output_type": "execute_result",
          "data": {
            "text/plain": [
              "<keras.callbacks.History at 0x7ff7ee213050>"
            ]
          },
          "metadata": {},
          "execution_count": 105
        }
      ]
    },
    {
      "cell_type": "markdown",
      "source": [
        "# Evaluate model"
      ],
      "metadata": {
        "id": "9kDVPhv_-_pt"
      }
    },
    {
      "cell_type": "code",
      "source": [
        "score = model.evaluate(x_test, y_test, verbose=0)\n",
        "print(\"Test loss:\", score[0])\n",
        "print(\"Test accuracy:\", score[1])"
      ],
      "metadata": {
        "id": "1Goo4PmEBWDh",
        "colab": {
          "base_uri": "https://localhost:8080/"
        },
        "outputId": "c30448d0-9997-4ebd-cf01-36dbf4b8323c"
      },
      "execution_count": null,
      "outputs": [
        {
          "output_type": "stream",
          "name": "stdout",
          "text": [
            "Test loss: 0.1442437618970871\n",
            "Test accuracy: 0.9675999879837036\n"
          ]
        }
      ]
    },
    {
      "cell_type": "markdown",
      "source": [
        "# Summary"
      ],
      "metadata": {
        "id": "P9RzxPis_HL1"
      }
    },
    {
      "cell_type": "markdown",
      "source": [
        "***TEST 1*** \\\\\n",
        "Với model VGG bỏ đi 7 lớp Convo đầu, input 28*28 train mất gần 1p40s cho mỗi epoch và cho Test accuracy là 0.9903, test loss là 0.065. (epoch=30)\n",
        "\n",
        "***TEST 2*** \\\\\n",
        "Với model VGG giữ nguyên và bỏ đi 3 lớp pool đầu (và do đó 7 lớp convo đầu có \n",
        "```\n",
        "padding = 'same'\n",
        "```\n",
        "để giữ nguyên size. \\\\\n",
        "Kết quả với epoch = 10 như sau: \\\\\n",
        "Test loss: 0.022525882348418236 \\\\\n",
        "Test accuracy: 0.9927999973297119"
      ],
      "metadata": {
        "id": "__QWOmUzrlvk"
      }
    }
  ]
}